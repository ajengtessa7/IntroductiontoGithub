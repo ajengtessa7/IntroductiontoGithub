{
  "nbformat": 4,
  "nbformat_minor": 0,
  "metadata": {
    "colab": {
      "provenance": [],
      "authorship_tag": "ABX9TyO6TAr3uQW7vipB9/4EsVeT",
      "include_colab_link": true
    },
    "kernelspec": {
      "name": "python3",
      "display_name": "Python 3"
    },
    "language_info": {
      "name": "python"
    }
  },
  "cells": [
    {
      "cell_type": "markdown",
      "metadata": {
        "id": "view-in-github",
        "colab_type": "text"
      },
      "source": [
        "<a href=\"https://colab.research.google.com/github/ajengtessa7/IntroductiontoGithub/blob/main/Crypto.ipynb\" target=\"_parent\"><img src=\"https://colab.research.google.com/assets/colab-badge.svg\" alt=\"Open In Colab\"/></a>"
      ]
    },
    {
      "cell_type": "markdown",
      "source": [
        "from Crypto.Cipher import AES\n",
        "from Crypto.Util.Padding import pad, unpad\n",
        "from Crypto.Random import get_random_bytes\n",
        "import binascii  # Untuk mencetak teks terenkripsi dalam format yang mudah dibaca\n",
        "\n",
        "# Fungsi untuk enkripsi\n",
        "def encrypt_AES(plain_text, key):\n",
        "    cipher = AES.new(key, AES.MODE_CBC)  # Inisialisasi cipher AES dengan mode CBC\n",
        "    iv = cipher.iv  # Initialization Vector (IV) yang akan digunakan\n",
        "    cipher_text = cipher.encrypt(pad(plain_text.encode(), AES.block_size))  # Enkripsi dan padding teks\n",
        "    return iv + cipher_text  # Gabungkan IV dengan teks terenkripsi\n",
        "\n",
        "# Fungsi untuk dekripsi\n",
        "def decrypt_AES(cipher_text, key):\n",
        "    try:\n",
        "        iv = cipher_text[:16]  # Ambil IV dari ciphertext\n",
        "        cipher = AES.new(key, AES.MODE_CBC, iv)  # Inisialisasi cipher dengan IV yang sama\n",
        "        decrypted_text = unpad(cipher.decrypt(cipher_text[16:]), AES.block_size)  # Dekripsi dan unpadding\n",
        "        return decrypted_text.decode()\n",
        "    except (ValueError, KeyError):\n",
        "        print(\"Kesalahan terjadi saat dekripsi.\")\n",
        "        return None\n",
        "\n",
        "# Contoh penggunaan\n",
        "key = get_random_bytes(16)  # Membuat kunci acak sepanjang 16 byte (128 bit)\n",
        "plain_text = input(\"Masukkan teks yang akan dienkripsi: \")\n",
        "\n",
        "# Enkripsi teks\n",
        "cipher_text = encrypt_AES(plain_text, key)\n",
        "print(\"Teks terenkripsi (dalam hex):\", binascii.hexlify(cipher_text).decode())  # Format dalam heksadesimal\n",
        "\n",
        "# Dekripsi teks\n",
        "decrypted_text = decrypt_AES(cipher_text, key)\n",
        "if decrypted_text:\n",
        "    print(\"Teks setelah didekripsi:\", decrypted_text)\n",
        "else:\n",
        "    print(\"Gagal mendekripsi teks.\")\n"
      ],
      "metadata": {
        "id": "ILVzSt92nesY"
      }
    },
    {
      "cell_type": "code",
      "source": [
        "!pip install pycryptodome\n"
      ],
      "metadata": {
        "colab": {
          "base_uri": "https://localhost:8080/"
        },
        "id": "AubDKDxHni5B",
        "outputId": "511edcab-1a07-4869-9644-ae754300cca5"
      },
      "execution_count": 6,
      "outputs": [
        {
          "output_type": "stream",
          "name": "stdout",
          "text": [
            "Collecting pycryptodome\n",
            "  Downloading pycryptodome-3.21.0-cp36-abi3-manylinux_2_17_x86_64.manylinux2014_x86_64.whl.metadata (3.4 kB)\n",
            "Downloading pycryptodome-3.21.0-cp36-abi3-manylinux_2_17_x86_64.manylinux2014_x86_64.whl (2.3 MB)\n",
            "\u001b[2K   \u001b[90m━━━━━━━━━━━━━━━━━━━━━━━━━━━━━━━━━━━━━━━━\u001b[0m \u001b[32m2.3/2.3 MB\u001b[0m \u001b[31m22.4 MB/s\u001b[0m eta \u001b[36m0:00:00\u001b[0m\n",
            "\u001b[?25hInstalling collected packages: pycryptodome\n",
            "Successfully installed pycryptodome-3.21.0\n"
          ]
        }
      ]
    },
    {
      "cell_type": "code",
      "source": [
        "!pip install pycryptodome  # Install pycryptodome package\n",
        "\n",
        "from Crypto.Cipher import AES\n",
        "from Crypto.Util.Padding import pad, unpad\n",
        "from Crypto.Random import get_random_bytes\n",
        "import binascii  # Untuk mencetak teks terenkripsi dalam format yang mudah dibaca\n",
        "\n",
        "# Fungsi untuk enkripsi\n",
        "def encrypt_AES(plain_text, key):\n",
        "    cipher = AES.new(key, AES.MODE_CBC)  # Inisialisasi cipher AES dengan mode CBC\n",
        "    iv = cipher.iv  # Initialization Vector (IV) yang akan digunakan\n",
        "    cipher_text = cipher.encrypt(pad(plain_text.encode(), AES.block_size))  # Enkripsi dan padding teks\n",
        "    return iv + cipher_text  # Gabungkan IV dengan teks terenkripsi\n",
        "\n",
        "# Fungsi untuk dekripsi\n",
        "def decrypt_AES(cipher_text, key):\n",
        "    try:\n",
        "        iv = cipher_text[:16]  # Ambil IV dari ciphertext\n",
        "        cipher = AES.new(key, AES.MODE_CBC, iv)  # Inisialisasi cipher dengan IV yang sama\n",
        "        decrypted_text = unpad(cipher.decrypt(cipher_text[16:]), AES.block_size)  # Dekripsi dan unpadding\n",
        "        return decrypted_text.decode()\n",
        "    except (ValueError, KeyError):\n",
        "        print(\"Kesalahan terjadi saat dekripsi.\")\n",
        "        return None\n",
        "\n",
        "# Contoh penggunaan\n",
        "key = get_random_bytes(16)  # Membuat kunci acak sepanjang 16 byte (128 bit)"
      ],
      "metadata": {
        "colab": {
          "base_uri": "https://localhost:8080/"
        },
        "id": "fnx60y8anwzH",
        "outputId": "6df5c79b-474b-4bda-a5f6-d68b535539e9"
      },
      "execution_count": 7,
      "outputs": [
        {
          "output_type": "stream",
          "name": "stdout",
          "text": [
            "Requirement already satisfied: pycryptodome in /usr/local/lib/python3.10/dist-packages (3.21.0)\n"
          ]
        }
      ]
    },
    {
      "cell_type": "code",
      "source": [],
      "metadata": {
        "id": "mtQryD_an0EA"
      },
      "execution_count": null,
      "outputs": []
    }
  ]
}